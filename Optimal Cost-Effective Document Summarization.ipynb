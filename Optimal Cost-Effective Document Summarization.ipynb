{
 "cells": [
  {
   "cell_type": "markdown",
   "id": "dfa625b6",
   "metadata": {},
   "source": [
    "# Optimal Cost-Effective Document Summarization\n",
    "\n",
    "This notebook provides a step-by-step guide to implement the \"Optimal Cost-Effective Approach\" for document summarization as described. The approach involves splitting a document into sections, vectorizing each section, clustering the vectors to identify key topics, and then generating a summary using the OpenAI API.\n",
    "\n",
    "## Step 1: Document Splitting\n",
    "\n",
    "Split the document into smaller sections or chunks, such as paragraphs. This can be done using simple string manipulation functions to split the text based on newline characters or other delimiters.\n"
   ]
  },
  {
   "cell_type": "code",
   "execution_count": 1,
   "id": "deb9f97b",
   "metadata": {},
   "outputs": [],
   "source": [
    "#pip install openai langchain pypdf chromadb scikit-learn sentence-transformers"
   ]
  },
  {
   "cell_type": "code",
   "execution_count": 2,
   "id": "ee7624b3",
   "metadata": {},
   "outputs": [],
   "source": [
    "import os\n",
    "import openai\n",
    "import numpy as np\n",
    "import PyPDF2\n",
    "from sentence_transformers import SentenceTransformer\n",
    "from sklearn.cluster import KMeans"
   ]
  },
  {
   "cell_type": "code",
   "execution_count": 3,
   "id": "ace76536",
   "metadata": {},
   "outputs": [],
   "source": [
    "#os.environ['OPENAI_API_KEY'] = ''"
   ]
  },
  {
   "cell_type": "code",
   "execution_count": 4,
   "id": "baeb0808",
   "metadata": {},
   "outputs": [],
   "source": [
    "openai.api_key = os.getenv('OPENAI_API_KEY')"
   ]
  },
  {
   "cell_type": "code",
   "execution_count": 5,
   "id": "88fff5ff",
   "metadata": {},
   "outputs": [],
   "source": [
    "file_path = './docs/Houghton (2010) Does Max Webers Notion of Authority Still Hold in the Twenty-First Century.pdf'"
   ]
  },
  {
   "cell_type": "code",
   "execution_count": 6,
   "id": "4f94543c",
   "metadata": {},
   "outputs": [],
   "source": [
    "def format_text(text):\n",
    "    \"\"\"Split the text into chunks of sentences.\"\"\"\n",
    "    # Split the text into individual sentences\n",
    "    sentences = text.split('.')\n",
    "    \n",
    "    # Group sentences together to form chunks\n",
    "    chunk_size = 5\n",
    "    chunks = ['.'.join(sentences[i:i+chunk_size]) for i in range(0, len(sentences), chunk_size)]\n",
    "    \n",
    "    return chunks\n",
    "\n",
    "def extract_text_from_pdf(pdf_path):\n",
    "    \"\"\"Extract text from a PDF file and format it into chunks.\"\"\"\n",
    "    with open(pdf_path, 'rb') as file:\n",
    "        # Initialize PDF reader\n",
    "        pdf_reader = PyPDF2.PdfReader(file)\n",
    "        \n",
    "        # Check if the PDF is encrypted\n",
    "        if pdf_reader.is_encrypted:\n",
    "            pdf_reader.decrypt('')\n",
    "        \n",
    "        # Extract text from each page\n",
    "        text = \"\"\n",
    "        for page in pdf_reader.pages:\n",
    "            text += page.extract_text()\n",
    "    \n",
    "    # Format the extracted text into chunks\n",
    "    return format_text(text)"
   ]
  },
  {
   "cell_type": "code",
   "execution_count": null,
   "id": "e2beb7f0",
   "metadata": {},
   "outputs": [],
   "source": [
    "chunks = extract_text_from_pdf(file_path)"
   ]
  },
  {
   "cell_type": "code",
   "execution_count": 16,
   "id": "6abba5a9",
   "metadata": {},
   "outputs": [
    {
     "data": {
      "text/plain": [
       "[Document(page_content='Does Max Weber’s notion\\nof authority still hold\\nin the twenty-ﬁrst century?\\nJeffery D. Houghton\\nCollege of Business and Economics, West Virginia University,\\nMorgantown, West Virginia, USA\\nAbstract\\nPurpose – The purpose of this brief commentary is to provide a brief overview of Max Weber’s life,\\nwork, and contributions to management thought before addressing the question of whether his notionof authority still holds in the twenty-ﬁrst century.\\nDesign/methodology/approach – The commentary begins with a brief biographical sketch followed\\nby an examination of Weber’s conceptualization of authority, its inﬂuence on the ﬁeld of management andits relevancy in the twenty-ﬁrst century.\\nFindings – Weber’s writings on charismatic authority have been and continue to be instrumental\\nin shaping modern leadership theory, that the charismatic form of authority may be particularly applicableand effective in today’s chaotic and rapidly changing environments, and that the empowered andself-managing organizational forms of the twenty-ﬁrst century may represent merely a different incarnation\\nof Weber’s iron cage of legal/rational authority.\\nOriginality/value – This commentary makes an important contribution to the management history\\nliterature by examining an important aspect of Weber’s inﬂuence on management thought, theory,\\nand practice.\\nKeywords Management theory, Authority, Charisma, Leadership\\nPaper type Conceptual paper\\nThe writings of Max Weber have had a profound and perhaps even unrivaled\\ninﬂuence on management thought and organizational theory over the past century\\n(Greenwood and Lawrence, 2005). Recently, however, some organizational theorists\\nhave questioned the current relevancy of Weber’s theories in today’s late-modernknowledge-based information age characterized by a very different set of economic,social, and technological realities from the time in which Weber’s ideas were born(Greenwood and Lawrence, 2005; Lounsbury and Carberry, 2005). A complete\\nexamination of the enduring inﬂuence of the entire breadth of Weber’s writings in the\\ncurrent context is well beyond the scope of this brief commentary. However, after a briefbiographical sketch and overview of Weber’s work, I will focus speciﬁcally on Weber’sconceptualization of authority and its relevancy in the twenty-ﬁrst century. In short, I will\\nsuggest that Weber’s writings on authority are still material in modern organizations and\\nare still helping to shape the thinking of today’s management scholars.\\nMax Weber was born in 1864 in Erfurt, Germany, the oldest of eight children. Weber\\nstudied law at the University of Heidelberg, but his educational experiences andsubsequent academic career would span a remarkably broad number of disciplines\\nincluding law, history, economics, philosophy, political science, and sociology. After\\ncompleting his doctoral dissertation and habilitation (the highest level of academicqualiﬁcation in certain European countries), Weber obtained his ﬁrst universityThe current issue and full text archive of this journal is available at\\nwww.emeraldinsight.com/1751-1348.htm\\nMax Weber’s\\nnotion of\\nauthority\\n449\\nJournal of Management History\\nVol. 16 No. 4, 2010\\npp. 449-453\\nqEmerald Group Publishing Limited\\n1751-1348\\nDOI 10.1108/17511341011073933\\nDownloaded by Queen Mary University of London At 07:14 02 January 2019 (PT)\\n', metadata={'source': './docs/Houghton (2010) Does Max Webers Notion of Authority Still Hold in the Twenty-First Century.pdf', 'page': 0}),\n",
       " Document(page_content='appointment in 1892 at the University of Freiburg. He would also hold professorships at\\nthe University of Heidelberg, the University of Vienna, and the University of\\nMunich during an academic career marked by periods of intense writing productivitybut punctuated with bouts of neurosis resulting in periods of scholarly inactivity\\nand long leaves of absence from any teaching responsibilities. As Greenwood and\\nLawrence (2005) have noted, it is doubtful that Weber could have followed such a careerpath in today’s intense “publish or perish” academic culture. In 1904, after a ﬁve-year\\nperiod during which he published virtually nothing, Weber began publishing some of\\nhis most inﬂuential essays. These essays were later collected to comprise his mostinﬂuential book, The Protestant Ethic and the Spirit of Capitalism , which included\\nWeber’s famous metaphor of the iron cage (Weber, 1930). Subsequently, Weber\\npresented his fully developed ideas on bureaucracy, political leadership, domination,\\nand authority in his three-volume masterpiece, Economy and Society (Weber, 1968),\\nwhich was ﬁrst published posthumously in 1922. Weber had died of pneumonia in 1920after contracting Spanish inﬂuenza. The inﬂuence of Weber’s writings on management\\nthought following his death was slowed somewhat by a lack of English translations of\\nhis work. Although, The Protestant Ethic was ﬁrst translated into English in 1930,\\nWeber’s essays on bureaucracy and authority were not widely available until the late\\n1940s. Yet despite the slow start, Weber’s inﬂuence on management and organizational\\ntheory in the middle decades of the twentieth century was tremendous (Greenwood andLawrence, 2005). Interested readers may refer to Ka ¨sler (1979) for a more detailed\\ndiscussion of Weber’s life and work.\\nWithout question, Max Weber’s ideas have had a broad and far-reaching inﬂuence on\\nthe development of the ﬁelds of management and organizational theory and his writings\\non authority certainly rank among his most inﬂuential. Weber forwarded three basictypes of authority: traditional, rational-legal, and charismatic (Weber, 1968). Traditional\\nauthority, such as that of tribal chiefs, feudal lords, and monarchs, is based on customs\\nand traditions that are passed down from one generation to the next. Rational-legalauthority, in contrast, is founded upon laws, rules, and the power stemming from a\\nlegitimate position or ofﬁce. Weber felt that the bureaucracy was a primary example of\\nrational-legal authority. Finally, charismatic authority results from extraordinarypersonal characteristics of a leader that have the capacity to inspire others.\\nWeber saw these three types of authority essentially as forces that would bring either\\nstability and order (traditional/legal rational) or change and disorder (charismatic) to\\ninstitutions and society (Conger, 1993). Thus, for Weber, traditional authority was\\nviewed as stable, impersonal, and nonrational; rational/legal authority was seen asstable, impersonal, and rational; and charismatic authority was considered unstable,\\npersonal, and nonrational (Blau, 1963; Conger, 1993). Weber painted a distinct contrast\\nbetween the act of following a personal yet transitory charismatic leader as opposed tosubmitting to the more stable and impersonal traditional and rational/legal forms\\nof authority. He further saw both legal/rational and charismatic authority as forms of\\nrebellion against the stagnant status quo of traditional authority, the former throughprinciples and procedures based on consensus and rationality and the latter through an\\nemotional reaction to a heroic leader. Weber also suggested that charismatic authority is\\ninherently transitory and unstable, and is therefore most effective in times of crisis and\\nchange, serving primarily to facilitate the transition from one order to another (Conger,\\n1993). Having accomplished this transition, charismatic authority is either “routinized”JMH\\n16,4\\n450\\nDownloaded by Queen Mary University of London At 07:14 02 January 2019 (PT)\\n', metadata={'source': './docs/Houghton (2010) Does Max Webers Notion of Authority Still Hold in the Twenty-First Century.pdf', 'page': 1}),\n",
       " Document(page_content='or simply fades away as charismatic leadership is replaced by the rules, tradition,\\nand institutionalized bureaucracy. Hence, the irony of charismatic authority is that it is\\noften replaced by the very forms of authority that it originally sought to overturn(Conger, 1993).\\nWeber developed his theory of authority in the early twentieth century and in that\\ncontext his ideas make a great deal of sense. The industrial age was creating larger andmore complex bureaucratic organizations and Weber observed that traditional authority\\nstructures were being replaced by legal/rational-based authority systems often aided by\\nlarger-than-life charismatic leaders whose entrepreneurial vision and energy were being\\ntransformed into the great corporations of the twentieth century. Weber, however, lived and\\nwrote in a simpler and arguably less dynamic context in which pace of change was slower\\nand less frenetic than today (Greenwood and Lawrence, 2005). Modern organizations are\\nincreasingly characterized by new, decentralized network-based structures that are quite\\ndifferent from the large, complex bureaucracies of Weber’s day. Today, knowledge-basedwork and cutting-edge technologies are creating new organizational realities centered on\\nconcepts such as telecommuting, empowerment, and self-managing teams that may\\npotentially undermine the traditional and legal/rational forms of authority. Given these neworganizational forms and practices, does Weber’s notion of authority still hold in\\ntwenty-ﬁrst century? In the remainder of this commentary, I will suggest that Weber’s\\nideas on authority are just as relevant today as they were 100 years ago, but in differentways and for different reasons. In short, I will propose that Weber’s writings on charismatic\\nauthority have been and continue to be instrumental in shaping modern leadership theory,\\nthat the charismatic form of authority may be particularly applicable and effective in\\ntoday’s chaotic and rapidly changing environments, and that the empowered and\\nself-managing organizational forms of the twenty-ﬁrst century may simply represent adifferent embodiment of Weber’s iron cage of legal/rational authority.\\nWhen Weber redeﬁned the term “charisma” from its original ecclesiastical meaning\\nof “divinely bestowed power or talent” to mean “a special quality of an individualcapable of inspiring and inﬂuencing others,” he laid the foundation for the concept of\\ncharismatic leadership. As Conger (1993, p. 277) points out, Weber “is essentially the\\n“father of the ﬁeld” – responsible for the introduction of the concept as both a lay andscientiﬁc term”. Thus, beginning in the 1970s and continuing to the present, Weber’s\\nwritings on charismatic authority have served as the conceptual basis for the\\ndevelopment of theoretical models of charismatic leadership as well as for empirical\\nresearch on the subject (Conger, 1988, 1993). Moreover, Weber’s writings have done\\nmore than serve as the seminal works for one of the most popular concepts in modernleadership theory; they have also continued to move the ﬁeld forward as various nuances\\nof charismatic leadership have been identiﬁed and explored. For instance, nearly two\\ndecades ago following the initial development of the charismatic leadership theory,Conger (1993) called for researchers to examine two previously neglected aspects of\\nWeber’s theory: the routinization of charismatic leadership and the role of context in\\ncharismatic leadership. In response, researchers have carefully examined the extent towhich the emergence and maintenance of charismatic leadership depends on the\\npresence of a dynamic context and/or crisis situation (Bligh et al. , 2004; de Hoogh et al. ,\\n2005; Pillai, 1996; Shamir and Howell, 1999). Indeed, these concepts along with other\\naspects of Weber’s theory of charismatic authority recently prompted a lively debate\\namong leadership scholars within the pages of Leadership Quarterly (Bass, 1999;Max Weber’s\\nnotion of\\nauthority\\n451\\nDownloaded by Queen Mary University of London At 07:14 02 January 2019 (PT)\\n', metadata={'source': './docs/Houghton (2010) Does Max Webers Notion of Authority Still Hold in the Twenty-First Century.pdf', 'page': 2}),\n",
       " Document(page_content='Beyer, 1999; House, 1999; Shamir, 1999). The point is that Max Weber’s ideas are still\\ninforming and inspiring research, debate, and theory building in one of the most popularareas of organizational research today.\\nLeadership theorists have generally suggested that times of stress, turbulence, and\\nrapid change are more conducive to a charismatic leadership approach because thetransforming vision of a charismatic leader is more appealing in times of uncertainly(Bryman, 1993; Conger, 1999). Weber (1968) himself focused speciﬁcally on times of crisis\\nas a primary facilitating environment for charismatic authority. It seems reasonable then\\nto suggest that charismatic leadership may have even greater applicability and relevancein today’s turbulent and rapidly changing organizational environments than the conceptof charismatic authority did in Weber’s day.\\nFinally, as Barker (1993) suggested in his highly inﬂuential ethnographic study, new\\nparticipatory organizational forms and practices such as self-managing teams andemployee empowerment may not represent an escape from the iron cage of legal/rationalauthority and bureaucratic control. Quite to the contrary, these practices may simplyrepresent a shift in the locus of control from managers in traditional bureaucratic\\nstructures to the workers themselves (Barker, 1993). Workers become accountable totheir teammates and to themselves rather than to a relatively distant manager. Ironically\\nthen, empowerment and self-management practices may serve to tighten Weber’s iron\\ncage of rational control as organizational members effective police themselves and theirco-workers more closely than would be possible in the strictest bureaucracy. Once again,Weber’s notion of authority informs our modern understanding complex organizationalphenomena.\\nIn conclusion, Hunt (1999, p. 129) has suggested that the development of charismatic\\nleadership was in part responsible for rejuvenating the study of leadership by creating“a paradigm shift that has attracted numerous new scholars and moved the ﬁeld as awhole out of its doldrums”. If this is true, then the ﬁeld of leadership was to a large extentrejuvenated by the inﬂuence of Max Weber as leadership scholars looked to the ideas of\\nthe past to create the leadership theory and practice of the present and future. Clearly,\\nMax Weber’s writings have been shaping the thinking of management scholars for morethan a century and his inﬂuence will likely continue into the foreseeable future.\\nReferences\\nBarker, J.R. (1993), “Tightening the iron cage: concertive control in self-managing teams”,\\nAdministrative Science Quarterly , Vol. 38, pp. 408-37.\\nBass, B.M. (1999), “On the taming of charisma: a reply to Janice Beyer”, Leadership Quarterly ,\\nVol. 10, pp. 541-53.\\nBeyer, J.M. (1999), “Taming and promoting charisma to change organizations”, Leadership\\nQuarterly , Vol. 10, pp. 307-31.\\nBlau, P.M. (1963), “Critical remarks on Weber’s theory of authority”, American Political Science\\nReview , Vol. 57, pp. 308-9.\\nBligh, M.C., Kohles, J.C. and Meindl, J.R. (2004), “Charisma under crisis: presidential leadership\\nrhetoric, and media responses before and after the September 11th terrorist attacks”,\\nLeadership Quarterly , Vol. 15, pp. 211-40.\\nBryman, A. (1993), “Charismatic leadership in business organizations: some neglected issues”,\\nLeadership Quarterly , Vol. 4, pp. 289-304.JMH\\n16,4\\n452\\nDownloaded by Queen Mary University of London At 07:14 02 January 2019 (PT)\\n', metadata={'source': './docs/Houghton (2010) Does Max Webers Notion of Authority Still Hold in the Twenty-First Century.pdf', 'page': 3}),\n",
       " Document(page_content='Conger, J.A. (1988), “Theoretical foundations of charismatic leadership”, in Conger, J.A. and\\nKanungo, R. (Eds), Charismatic Leadership: The Elusive Factor in Organizational\\nEffectiveness , Jossey-Bass, San Francisco, CA, pp. 12-39.\\nConger, J.A. (1993), “Max Weber’s conceptualization of charismatic authority: its inﬂuence\\non organizational research”, Leadership Quarterly , Vol. 4, pp. 277-88.\\nConger, J.A. (1999), “Charismatic and transformational leadership in organizations: an insider’s\\nperspective on these developing streams of research”, Leadership Quarterly , Vol. 10,\\npp. 145-70.\\nde Hoogh, A.H.B., den Hartog, D.N. and Koopman, P.L. (2005), “Linking the big ﬁve-factors\\nof personality to charismatic and transactional leadership: perceived dynamic workenvironment as a moderator”, Journal of Organizational Behavior , Vol. 26, pp. 839-65.\\nGreenwood, R. and Lawrence, T.B. (2005), “The iron cage in the information age: the legacy and\\nrelevance of Max Weber for organizational studies”, Organizational Studies , Vol. 26,\\npp. 493-9.\\nHouse, R.J. (1999), “Weber and the neo-charismatic leadership paradigm: a response to Beyer”,\\nLeadership Quarterly , Vol. 10, pp. 563-75.\\nHunt, J.G. (1999), “Transformational/charismatic leadership’s transformation of the ﬁeld:\\nan historical essay”, Leadership Quarterly , Vol. 10, pp. 129-45.\\nKa¨sler, D. (1979), Max Weber: An Introduction to His Life and Work , University of Chicago Press,\\nChicago, IL.\\nLounsbury, M. and Carberry, E.J. (2005), “From king to court jester? Weber’s fall from grace\\nin organizational theory”, Organizational Studies , Vol. 26, pp. 501-25.\\nPillai, R. (1996), “Crisis and the emergence of charismatic leadership in groups: an experimental\\ninvestigation”, Journal of Applied Social Psychology , Vol. 26, pp. 543-62.\\nShamir, B. (1999), “Taming charisma for better understanding and greater usefulness: a response\\nto Beyer”, Leadership Quarterly , Vol. 10, pp. 555-63.\\nShamir, B. and Howell, J.M. (1999), “Organizational and contextual inﬂuences on the emergence\\nand effectiveness of charismatic leadership”, Leadership Quarterly , Vol. 10, pp. 257-84.\\nWeber, M. (1930), The Protestant Ethic and the Spirit of Capitalism , Unwin University Books,\\nLondon (translated Parsons, T.).\\nWeber, M. (1968) in Roth, G. and Wittich, C. (Eds), Economy and Society: An Outline of\\nInterpretive Sociology , Bedminstrer Press, New York, NY.\\nAbout the author\\nJeffery D. Houghton is an Associate Professor of Management and Director of the Master of\\nScience in Human Resources and Industrial Relations program at West Virginia University.He has presented his research at various professional meetings and has published numerousarticles in a variety of respected journals. He holds a PhD in Organizational Studies from\\nVirginia Polytechnic Institute and State University. Jeffery D. Houghton can be contacted at:\\njeff.houghton@mail.wvu.eduMax Weber’s\\nnotion of\\nauthority\\n453\\nTo purchase reprints of this article please e-mail: reprints@emeraldinsight.com\\nOr visit our web site for further details: www.emeraldinsight.com/reprints\\nDownloaded by Queen Mary University of London At 07:14 02 January 2019 (PT)\\n', metadata={'source': './docs/Houghton (2010) Does Max Webers Notion of Authority Still Hold in the Twenty-First Century.pdf', 'page': 4}),\n",
       " Document(page_content=\"This article has been cited by:\\n1.Kate Maclean. 2017. Disarming charisma? Mayoralty, gender and power in Medellín, Colombia. Political\\nGeography  59, 126-135. [ Crossref ]\\n2.Edna Rabenu. Positive Psychological Capital: From Strengths to Power 81-105. [ Crossref ]\\n3.Colleen Schwarz. 2015. A review of management history from 2010-2014 utilizing a thematic analysis\\napproach. Journal of Management History  21:4, 494-504. [ Abstract ] [Full Text ] [PDF]\\n4.Abdullah F. Alrebh. 2015. Covering the Building of a Kingdom: The Saudi Arabian Authority in The\\nLondon Times and The New York Times , 1901-1932. Digest of Middle East Studies  24:2, 187-212.\\n[Crossref ]\\n5.Sukumarakurup Krishnakumar, Jeffery D. Houghton, Christopher P . Neck, Christopher N. Ellison. 2015.\\nThe “good” and the “bad” of spiritual leadership. Journal of Management, Spirituality & Religion  12:1,\\n17-37. [ Crossref ]\\n6.Miguel Pereira Lopes. 2014. Rebuilding Lisbon in the aftermath of the 1755 earthquake. Journal of\\nManagement History  20:3, 278-291. [ Abstract ] [Full Text ] [PDF]\\n7.Ivana Milosevic, A. Erin Bass. 2014. Revisiting Weber's charismatic leadership: learning from the past\\nand looking to the future. Journal of Management History  20:2, 224-240. [ Abstract ] [Full Text ] [PDF]\\nDownloaded by Queen Mary University of London At 07:14 02 January 2019 (PT)\\n\", metadata={'source': './docs/Houghton (2010) Does Max Webers Notion of Authority Still Hold in the Twenty-First Century.pdf', 'page': 5})]"
      ]
     },
     "execution_count": 16,
     "metadata": {},
     "output_type": "execute_result"
    }
   ],
   "source": [
    "pages"
   ]
  },
  {
   "cell_type": "code",
   "execution_count": 12,
   "id": "fa4ed92c",
   "metadata": {},
   "outputs": [],
   "source": [
    "page = pages[0]"
   ]
  },
  {
   "cell_type": "code",
   "execution_count": 14,
   "id": "f39cc585",
   "metadata": {},
   "outputs": [
    {
     "data": {
      "text/plain": [
       "'Does Max Weber’s notion\\nof authority still hold\\nin the twenty-ﬁrst century?\\nJeffery D. Houghton\\nCollege of Business and Economics, West Virginia University,\\nMorgantown, West Virginia, USA\\nAbstract\\nPurpose – The purpose of this brief commentary is to provide a brief overview of Max Weber’s life,\\nwork, and contributions to management thought before addressing the question of whether his notionof authority still holds in the twenty-ﬁrst century.\\nDesign/methodology/approach – The commentary begins with a brief biographical sketch followed\\nby an examination of Weber’s conceptualization of authority, its inﬂuence on the ﬁeld of management andits relevancy in the twenty-ﬁrst century.\\nFindings – Weber’s writings on charismatic authority have been and continue to be instrumental\\nin shaping modern leadership theory, that the charismatic form of authority may be particularly applicableand effective in today’s chaotic and rapidly changing environments, and that the empowered andself-managing organizational forms of the twenty-ﬁrst century may represent merely a different incarnation\\nof Weber’s iron cage of legal/rational authority.\\nOriginality/value – This commentary makes an important contribution to the management history\\nliterature by examining an important aspect of Weber’s inﬂuence on management thought, theory,\\nand practice.\\nKeywords Management theory, Authority, Charisma, Leadership\\nPaper type Conceptual paper\\nThe writings of Max Weber have had a profound and perhaps even unrivaled\\ninﬂuence on management thought and organizational theory over the past century\\n(Greenwood and Lawrence, 2005). Recently, however, some organizational theorists\\nhave questioned the current relevancy of Weber’s theories in today’s late-modernknowledge-based information age characterized by a very different set of economic,social, and technological realities from the time in which Weber’s ideas were born(Greenwood and Lawrence, 2005; Lounsbury and Carberry, 2005). A complete\\nexamination of the enduring inﬂuence of the entire breadth of Weber’s writings in the\\ncurrent context is well beyond the scope of this brief commentary. However, after a briefbiographical sketch and overview of Weber’s work, I will focus speciﬁcally on Weber’sconceptualization of authority and its relevancy in the twenty-ﬁrst century. In short, I will\\nsuggest that Weber’s writings on authority are still material in modern organizations and\\nare still helping to shape the thinking of today’s management scholars.\\nMax Weber was born in 1864 in Erfurt, Germany, the oldest of eight children. Weber\\nstudied law at the University of Heidelberg, but his educational experiences andsubsequent academic career would span a remarkably broad number of disciplines\\nincluding law, history, economics, philosophy, political science, and sociology. After\\ncompleting his doctoral dissertation and habilitation (the highest level of academicqualiﬁcation in certain European countries), Weber obtained his ﬁrst universityThe current issue and full text archive of this journal is available at\\nwww.emeraldinsight.com/1751-1348.htm\\nMax Weber’s\\nnotion of\\nauthority\\n449\\nJournal of Management History\\nVol. 16 No. 4, 2010\\npp. 449-453\\nqEmerald Group Publishing Limited\\n1751-1348\\nDOI 10.1108/17511341011073933\\nDownloaded by Queen Mary University of London At 07:14 02 January 2019 (PT)\\n'"
      ]
     },
     "execution_count": 14,
     "metadata": {},
     "output_type": "execute_result"
    }
   ],
   "source": [
    "page.page_content"
   ]
  },
  {
   "cell_type": "markdown",
   "id": "473acebe",
   "metadata": {},
   "source": [
    "## Step 2: Vectorization\n",
    "\n",
    "Convert each section or chunk into a vector representation using embeddings. We'll use the SentenceTransformers library for this purpose.\n"
   ]
  },
  {
   "cell_type": "code",
   "execution_count": null,
   "id": "11273e49",
   "metadata": {},
   "outputs": [],
   "source": [
    "from langchain.vectorstores import Chroma\n",
    "persist_directory = 'docs/chroma/'"
   ]
  },
  {
   "cell_type": "code",
   "execution_count": null,
   "id": "8d61d1d4",
   "metadata": {},
   "outputs": [],
   "source": [
    "from langchain.embeddings.openai import OpenAIEmbeddings\n",
    "embeddings = OpenAIEmbeddings()"
   ]
  },
  {
   "cell_type": "code",
   "execution_count": null,
   "id": "97e6a41d",
   "metadata": {},
   "outputs": [],
   "source": [
    "text = \"\"\"The writings of Max Weber have had a profound and perhaps even unrivaled\n",
    "influence on management thought and organizational theory over the past century\n",
    "(Greenwood and Lawrence, 2005). Recently, however, some organizational theorists\n",
    "have questioned the current relevancy of Weber’s theories in today’s late-modern\n",
    "knowledge-based information age characterized by a very different set of economic,\n",
    "social, and technological realities from the time in which Weber’s ideas were born\n",
    "(Greenwood and Lawrence, 2005; Lounsbury and Carberry, 2005). A complete\n",
    "examination of the enduring influence of the entire breadth of Weber’s writings in the\n",
    "current context is well beyond the scope of this brief commentary. However, after a brief\n",
    "biographical sketch and overview of Weber’s work, I will focus specifically on Weber’s\n",
    "conceptualization of authority and its relevancy in the twenty-first century. In short, I will\n",
    "suggest that Weber’s writings on authority are still material in modern organizations and\n",
    "are still helping to shape the thinking of today’s management scholars.\n",
    "Max Weber was born in 1864 in Erfurt, Germany, the oldest of eight children. Weber\n",
    "studied law at the University of Heidelberg, but his educational experiences and\n",
    "subsequent academic career would span a remarkably broad number of disciplines\n",
    "including law, history, economics, philosophy, political science, and sociology. After\n",
    "completing his doctoral dissertation and habilitation (the highest level of academic\n",
    "qualification in certain European countries), Weber obtained his first university appointment in 1892 at the University of Freiburg. He would also hold professorships at\n",
    "the University of Heidelberg, the University of Vienna, and the University of\n",
    "Munich during an academic career marked by periods of intense writing productivity\n",
    "but punctuated with bouts of neurosis resulting in periods of scholarly inactivity\n",
    "and long leaves of absence from any teaching responsibilities. As Greenwood and\n",
    "Lawrence (2005) have noted, it is doubtful that Weber could have followed such a career\n",
    "path in today’s intense “publish or perish” academic culture. In 1904, after a five-year\n",
    "period during which he published virtually nothing, Weber began publishing some of\n",
    "his most influential essays. These essays were later collected to comprise his most\n",
    "influential book, The Protestant Ethic and the Spirit of Capitalism, which included\n",
    "Weber’s famous metaphor of the iron cage (Weber, 1930). Subsequently, Weber\n",
    "presented his fully developed ideas on bureaucracy, political leadership, domination,\n",
    "and authority in his three-volume masterpiece, Economy and Society (Weber, 1968),\n",
    "which was first published posthumously in 1922. Weber had died of pneumonia in 1920\n",
    "after contracting Spanish influenza. The influence of Weber’s writings on management\n",
    "thought following his death was slowed somewhat by a lack of English translations of\n",
    "his work. Although, The Protestant Ethic was first translated into English in 1930,\n",
    "Weber’s essays on bureaucracy and authority were not widely available until the late\n",
    "1940s. Yet despite the slow start, Weber’s influence on management and organizational\n",
    "theory in the middle decades of the twentieth century was tremendous (Greenwood and\n",
    "Lawrence, 2005). Interested readers may refer to Ka¨sler (1979) for a more detailed\n",
    "discussion of Weber’s life and work.\n",
    "Without question, Max Weber’s ideas have had a broad and far-reaching influence on\n",
    "the development of the fields of management and organizational theory and his writings\n",
    "on authority certainly rank among his most influential. Weber forwarded three basic\n",
    "types of authority: traditional, rational-legal, and charismatic (Weber, 1968). Traditional\n",
    "authority, such as that of tribal chiefs, feudal lords, and monarchs, is based on customs\n",
    "and traditions that are passed down from one generation to the next. Rational-legal\n",
    "authority, in contrast, is founded upon laws, rules, and the power stemming from a\n",
    "legitimate position or office. Weber felt that the bureaucracy was a primary example of\n",
    "rational-legal authority. Finally, charismatic authority results from extraordinary\n",
    "personal characteristics of a leader that have the capacity to inspire others.\n",
    "Weber saw these three types of authority essentially as forces that would bring either\n",
    "stability and order (traditional/legal rational) or change and disorder (charismatic) to\n",
    "institutions and society (Conger, 1993). Thus, for Weber, traditional authority was\n",
    "viewed as stable, impersonal, and nonrational; rational/legal authority was seen as\n",
    "stable, impersonal, and rational; and charismatic authority was considered unstable,\n",
    "personal, and nonrational (Blau, 1963; Conger, 1993). Weber painted a distinct contrast\n",
    "between the act of following a personal yet transitory charismatic leader as opposed to\n",
    "submitting to the more stable and impersonal traditional and rational/legal forms\n",
    "of authority. He further saw both legal/rational and charismatic authority as forms of\n",
    "rebellion against the stagnant status quo of traditional authority, the former through\n",
    "principles and procedures based on consensus and rationality and the latter through an\n",
    "emotional reaction to a heroic leader. Weber also suggested that charismatic authority is\n",
    "inherently transitory and unstable, and is therefore most effective in times of crisis and\n",
    "change, serving primarily to facilitate the transition from one order to another (Conger,\n",
    "1993). Having accomplished this transition, charismatic authority is either “routinized”or simply fades away as charismatic leadership is replaced by the rules, tradition,\n",
    "and institutionalized bureaucracy. Hence, the irony of charismatic authority is that it is\n",
    "often replaced by the very forms of authority that it originally sought to overturn\n",
    "(Conger, 1993).\n",
    "Weber developed his theory of authority in the early twentieth century and in that\n",
    "context his ideas make a great deal of sense. The industrial age was creating larger and\n",
    "more complex bureaucratic organizations and Weber observed that traditional authority\n",
    "structures were being replaced by legal/rational-based authority systems often aided by\n",
    "larger-than-life charismatic leaders whose entrepreneurial vision and energy were being\n",
    "transformed into the great corporations of the twentieth century. Weber, however, lived and\n",
    "wrote in a simpler and arguably less dynamic context in which pace of change was slower\n",
    "and less frenetic than today (Greenwood and Lawrence, 2005). Modern organizations are\n",
    "increasingly characterized by new, decentralized network-based structures that are quite\n",
    "different from the large, complex bureaucracies of Weber’s day. Today, knowledge-based\n",
    "work and cutting-edge technologies are creating new organizational realities centered on\n",
    "concepts such as telecommuting, empowerment, and self-managing teams that may\n",
    "potentially undermine the traditional and legal/rational forms of authority. Given these new\n",
    "organizational forms and practices, does Weber’s notion of authority still hold in\n",
    "twenty-first century? In the remainder of this commentary, I will suggest that Weber’s\n",
    "ideas on authority are just as relevant today as they were 100 years ago, but in different\n",
    "ways and for different reasons. In short, I will propose that Weber’s writings on charismatic\n",
    "authority have been and continue to be instrumental in shaping modern leadership theory,\n",
    "that the charismatic form of authority may be particularly applicable and effective in\n",
    "today’s chaotic and rapidly changing environments, and that the empowered and\n",
    "self-managing organizational forms of the twenty-first century may simply represent a\n",
    "different embodiment of Weber’s iron cage of legal/rational authority.\n",
    "When Weber redefined the term “charisma” from its original ecclesiastical meaning\n",
    "of “divinely bestowed power or talent” to mean “a special quality of an individual\n",
    "capable of inspiring and influencing others,” he laid the foundation for the concept of\n",
    "charismatic leadership. As Conger (1993, p. 277) points out, Weber “is essentially the\n",
    "“father of the field” – responsible for the introduction of the concept as both a lay and\n",
    "scientific term”. Thus, beginning in the 1970s and continuing to the present, Weber’s\n",
    "writings on charismatic authority have served as the conceptual basis for the\n",
    "development of theoretical models of charismatic leadership as well as for empirical\n",
    "research on the subject (Conger, 1988, 1993). Moreover, Weber’s writings have done\n",
    "more than serve as the seminal works for one of the most popular concepts in modern\n",
    "leadership theory; they have also continued to move the field forward as various nuances\n",
    "of charismatic leadership have been identified and explored. For instance, nearly two\n",
    "decades ago following the initial development of the charismatic leadership theory,\n",
    "Conger (1993) called for researchers to examine two previously neglected aspects of\n",
    "Weber’s theory: the routinization of charismatic leadership and the role of context in\n",
    "charismatic leadership. In response, researchers have carefully examined the extent to\n",
    "which the emergence and maintenance of charismatic leadership depends on the\n",
    "presence of a dynamic context and/or crisis situation (Bligh et al., 2004; de Hoogh et al.,\n",
    "2005; Pillai, 1996; Shamir and Howell, 1999). Indeed, these concepts along with other\n",
    "aspects of Weber’s theory of charismatic authority recently prompted a lively debate\n",
    "among leadership scholars within the pages of Leadership Quarterly (Bass, 1999; Beyer, 1999; House, 1999; Shamir, 1999). The point is that Max Weber’s ideas are still\n",
    "informing and inspiring research, debate, and theory building in one of the most popular\n",
    "areas of organizational research today.\n",
    "Leadership theorists have generally suggested that times of stress, turbulence, and\n",
    "rapid change are more conducive to a charismatic leadership approach because the\n",
    "transforming vision of a charismatic leader is more appealing in times of uncertainly\n",
    "(Bryman, 1993; Conger, 1999). Weber (1968) himself focused specifically on times of crisis\n",
    "as a primary facilitating environment for charismatic authority. It seems reasonable then\n",
    "to suggest that charismatic leadership may have even greater applicability and relevance\n",
    "in today’s turbulent and rapidly changing organizational environments than the concept\n",
    "of charismatic authority did in Weber’s day.\n",
    "Finally, as Barker (1993) suggested in his highly influential ethnographic study, new\n",
    "participatory organizational forms and practices such as self-managing teams and\n",
    "employee empowerment may not represent an escape from the iron cage of legal/rational\n",
    "authority and bureaucratic control. Quite to the contrary, these practices may simply\n",
    "represent a shift in the locus of control from managers in traditional bureaucratic\n",
    "structures to the workers themselves (Barker, 1993). Workers become accountable to\n",
    "their teammates and to themselves rather than to a relatively distant manager. Ironically\n",
    "then, empowerment and self-management practices may serve to tighten Weber’s iron\n",
    "cage of rational control as organizational members effective police themselves and their\n",
    "co-workers more closely than would be possible in the strictest bureaucracy. Once again,\n",
    "Weber’s notion of authority informs our modern understanding complex organizational\n",
    "phenomena.\n",
    "In conclusion, Hunt (1999, p. 129) has suggested that the development of charismatic\n",
    "leadership was in part responsible for rejuvenating the study of leadership by creating\n",
    "“a paradigm shift that has attracted numerous new scholars and moved the field as a\n",
    "whole out of its doldrums”. If this is true, then the field of leadership was to a large extent\n",
    "rejuvenated by the influence of Max Weber as leadership scholars looked to the ideas of\n",
    "the past to create the leadership theory and practice of the present and future. Clearly,\n",
    "Max Weber’s writings have been shaping the thinking of management scholars for more\n",
    "than a century and his influence will likely continue into the foreseeable future.\"\"\""
   ]
  },
  {
   "cell_type": "code",
   "execution_count": null,
   "id": "d5165aa1",
   "metadata": {},
   "outputs": [],
   "source": [
    "sections = text.split(\"\\n\\n\")  # Split by paragraphs"
   ]
  },
  {
   "cell_type": "code",
   "execution_count": null,
   "id": "f269a1ae",
   "metadata": {},
   "outputs": [],
   "source": [
    "sections"
   ]
  },
  {
   "cell_type": "code",
   "execution_count": null,
   "id": "2fb86e69",
   "metadata": {},
   "outputs": [],
   "source": [
    "doc_embeddings = embeddings.embed_documents([text])"
   ]
  },
  {
   "cell_type": "markdown",
   "id": "4f4cc8f5",
   "metadata": {},
   "source": [
    "## Step 3: Clustering\n",
    "\n",
    "Apply a clustering algorithm, such as K-means, to the generated embeddings. This will group the vectors (and hence the sections or chunks) that are semantically similar into clusters.\n"
   ]
  },
  {
   "cell_type": "code",
   "execution_count": null,
   "id": "e4748f2f",
   "metadata": {},
   "outputs": [],
   "source": [
    "from sklearn.cluster import KMeans\n",
    "\n",
    "num_clusters = 1  # You can determine the optimal number using methods like the Elbow method\n",
    "kmeans = KMeans(n_clusters=num_clusters)\n",
    "kmeans.fit(doc_embeddings)\n"
   ]
  },
  {
   "cell_type": "markdown",
   "id": "89e75569",
   "metadata": {},
   "source": [
    "## Step 4: Extract Representative Vectors\n",
    "\n",
    "For each cluster, identify the center point or the representative vector. This can be the centroid of the cluster in K-means. This representative vector captures the \"average meaning\" of that topic cluster.\n"
   ]
  },
  {
   "cell_type": "code",
   "execution_count": null,
   "id": "eff254ac",
   "metadata": {},
   "outputs": [],
   "source": [
    "centroids = kmeans.cluster_centers_"
   ]
  },
  {
   "cell_type": "markdown",
   "id": "2ecf3ef3",
   "metadata": {},
   "source": [
    "## Step 5: Generate Summary using OpenAI API\n",
    "\n",
    "We'll use the OpenAI API to generate a concise summary for each section that is closest to the centroid of its cluster.\n"
   ]
  },
  {
   "cell_type": "code",
   "execution_count": null,
   "id": "d7e046b6",
   "metadata": {},
   "outputs": [],
   "source": [
    "pip install numpy"
   ]
  },
  {
   "cell_type": "code",
   "execution_count": null,
   "id": "cd8d5978",
   "metadata": {},
   "outputs": [],
   "source": [
    "import numpy as np\n"
   ]
  },
  {
   "cell_type": "code",
   "execution_count": null,
   "id": "507f983d",
   "metadata": {},
   "outputs": [],
   "source": [
    "import openai\n",
    "\n",
    "def generate_summary(text):\n",
    "    response = openai.Completion.create(\n",
    "      model=\"davinci-002\",\n",
    "      prompt=text,\n",
    "      max_tokens=150  # Adjust based on your needs\n",
    "    )\n",
    "    return response.choices[0].text.strip()\n",
    "\n",
    "summary_sections = []\n",
    "for centroid in centroids:\n",
    "    closest_section = sections[np.argmin(np.linalg.norm(embeddings - centroid, axis=1))]\n",
    "    summarized_text = generate_summary(closest_section)\n",
    "    summary_sections.append(summarized_text)\n",
    "\n",
    "summary = \"\\n\\n\".join(summary_sections)\n",
    "print(summary)\n"
   ]
  },
  {
   "cell_type": "code",
   "execution_count": null,
   "id": "8988640d",
   "metadata": {},
   "outputs": [],
   "source": []
  }
 ],
 "metadata": {
  "kernelspec": {
   "display_name": "Python 3 (ipykernel)",
   "language": "python",
   "name": "python3"
  },
  "language_info": {
   "codemirror_mode": {
    "name": "ipython",
    "version": 3
   },
   "file_extension": ".py",
   "mimetype": "text/x-python",
   "name": "python",
   "nbconvert_exporter": "python",
   "pygments_lexer": "ipython3",
   "version": "3.11.1"
  }
 },
 "nbformat": 4,
 "nbformat_minor": 5
}
